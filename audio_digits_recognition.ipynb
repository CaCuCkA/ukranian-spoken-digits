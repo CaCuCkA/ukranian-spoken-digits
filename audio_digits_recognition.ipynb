{
 "cells": [
  {
   "cell_type": "markdown",
   "metadata": {},
   "source": [
    "# Ukranian Audio Digits Recognition"
   ]
  },
  {
   "cell_type": "markdown",
   "metadata": {},
   "source": [
    "## Environment Setup"
   ]
  },
  {
   "cell_type": "code",
   "execution_count": null,
   "outputs": [],
   "source": [],
   "metadata": {
    "collapsed": false
   }
  },
  {
   "cell_type": "code",
   "execution_count": 1,
   "metadata": {
    "ExecuteTime": {
     "end_time": "2024-03-18T19:07:44.271497Z",
     "start_time": "2024-03-18T19:07:44.159239Z"
    }
   },
   "outputs": [],
   "source": [
    "\n",
    "from colabcode import ColabCode"
   ]
  },
  {
   "cell_type": "code",
   "execution_count": 2,
   "metadata": {
    "ExecuteTime": {
     "end_time": "2024-03-18T19:07:46.718671Z",
     "start_time": "2024-03-18T19:07:46.714176Z"
    }
   },
   "outputs": [
    {
     "name": "stdout",
     "output_type": "stream",
     "text": [
      "Writing requirements.txt\n"
     ]
    }
   ],
   "source": [
    "%%writefile requirements.txt\n",
    "\n",
    "torch #pytorch\n",
    "torchvision\n",
    "matplotlib\n",
    "numpy\n",
    "tqdm\n",
    "pandas\n",
    "opencv-python #cv2\n",
    "albumentations"
   ]
  },
  {
   "cell_type": "code",
   "execution_count": 3,
   "metadata": {
    "ExecuteTime": {
     "end_time": "2024-03-18T19:08:24.167398Z",
     "start_time": "2024-03-18T19:07:54.102782Z"
    }
   },
   "outputs": [
    {
     "name": "stdout",
     "output_type": "stream",
     "text": [
      "Requirement already satisfied: torch in /Library/Frameworks/Python.framework/Versions/3.10/lib/python3.10/site-packages (from -r requirements.txt (line 2)) (2.1.2)\r\n",
      "Collecting torchvision (from -r requirements.txt (line 3))\r\n",
      "  Downloading torchvision-0.17.1-cp310-cp310-macosx_11_0_arm64.whl.metadata (6.6 kB)\r\n",
      "Requirement already satisfied: matplotlib in /Library/Frameworks/Python.framework/Versions/3.10/lib/python3.10/site-packages (from -r requirements.txt (line 4)) (3.8.2)\r\n",
      "Requirement already satisfied: numpy in /Library/Frameworks/Python.framework/Versions/3.10/lib/python3.10/site-packages (from -r requirements.txt (line 5)) (1.26.2)\r\n",
      "Requirement already satisfied: tqdm in /Library/Frameworks/Python.framework/Versions/3.10/lib/python3.10/site-packages (from -r requirements.txt (line 6)) (4.66.1)\r\n",
      "Requirement already satisfied: pandas in /Library/Frameworks/Python.framework/Versions/3.10/lib/python3.10/site-packages (from -r requirements.txt (line 7)) (2.1.4)\r\n",
      "Collecting opencv-python (from -r requirements.txt (line 8))\r\n",
      "  Downloading opencv_python-4.9.0.80-cp37-abi3-macosx_11_0_arm64.whl.metadata (20 kB)\r\n",
      "Collecting albumentations (from -r requirements.txt (line 9))\r\n",
      "  Downloading albumentations-1.4.1-py3-none-any.whl.metadata (36 kB)\r\n",
      "Requirement already satisfied: filelock in /Library/Frameworks/Python.framework/Versions/3.10/lib/python3.10/site-packages (from torch->-r requirements.txt (line 2)) (3.13.1)\r\n",
      "Requirement already satisfied: typing-extensions in /Library/Frameworks/Python.framework/Versions/3.10/lib/python3.10/site-packages (from torch->-r requirements.txt (line 2)) (4.9.0)\r\n",
      "Requirement already satisfied: sympy in /Library/Frameworks/Python.framework/Versions/3.10/lib/python3.10/site-packages (from torch->-r requirements.txt (line 2)) (1.12)\r\n",
      "Requirement already satisfied: networkx in /Library/Frameworks/Python.framework/Versions/3.10/lib/python3.10/site-packages (from torch->-r requirements.txt (line 2)) (3.2.1)\r\n",
      "Requirement already satisfied: jinja2 in /Library/Frameworks/Python.framework/Versions/3.10/lib/python3.10/site-packages (from torch->-r requirements.txt (line 2)) (3.1.2)\r\n",
      "Requirement already satisfied: fsspec in /Library/Frameworks/Python.framework/Versions/3.10/lib/python3.10/site-packages (from torch->-r requirements.txt (line 2)) (2023.12.2)\r\n",
      "Collecting torch (from -r requirements.txt (line 2))\r\n",
      "  Downloading torch-2.2.1-cp310-none-macosx_11_0_arm64.whl.metadata (25 kB)\r\n",
      "Requirement already satisfied: pillow!=8.3.*,>=5.3.0 in /Library/Frameworks/Python.framework/Versions/3.10/lib/python3.10/site-packages (from torchvision->-r requirements.txt (line 3)) (10.1.0)\r\n",
      "Requirement already satisfied: contourpy>=1.0.1 in /Library/Frameworks/Python.framework/Versions/3.10/lib/python3.10/site-packages (from matplotlib->-r requirements.txt (line 4)) (1.2.0)\r\n",
      "Requirement already satisfied: cycler>=0.10 in /Library/Frameworks/Python.framework/Versions/3.10/lib/python3.10/site-packages (from matplotlib->-r requirements.txt (line 4)) (0.12.1)\r\n",
      "Requirement already satisfied: fonttools>=4.22.0 in /Library/Frameworks/Python.framework/Versions/3.10/lib/python3.10/site-packages (from matplotlib->-r requirements.txt (line 4)) (4.45.1)\r\n",
      "Requirement already satisfied: kiwisolver>=1.3.1 in /Library/Frameworks/Python.framework/Versions/3.10/lib/python3.10/site-packages (from matplotlib->-r requirements.txt (line 4)) (1.4.5)\r\n",
      "Requirement already satisfied: packaging>=20.0 in /Library/Frameworks/Python.framework/Versions/3.10/lib/python3.10/site-packages (from matplotlib->-r requirements.txt (line 4)) (23.2)\r\n",
      "Requirement already satisfied: pyparsing>=2.3.1 in /Library/Frameworks/Python.framework/Versions/3.10/lib/python3.10/site-packages (from matplotlib->-r requirements.txt (line 4)) (3.1.1)\r\n",
      "Requirement already satisfied: python-dateutil>=2.7 in /Library/Frameworks/Python.framework/Versions/3.10/lib/python3.10/site-packages (from matplotlib->-r requirements.txt (line 4)) (2.8.2)\r\n",
      "Requirement already satisfied: pytz>=2020.1 in /Library/Frameworks/Python.framework/Versions/3.10/lib/python3.10/site-packages (from pandas->-r requirements.txt (line 7)) (2023.3.post1)\r\n",
      "Requirement already satisfied: tzdata>=2022.1 in /Library/Frameworks/Python.framework/Versions/3.10/lib/python3.10/site-packages (from pandas->-r requirements.txt (line 7)) (2023.3)\r\n",
      "Requirement already satisfied: scipy>=1.10.0 in /Library/Frameworks/Python.framework/Versions/3.10/lib/python3.10/site-packages (from albumentations->-r requirements.txt (line 9)) (1.11.4)\r\n",
      "Collecting scikit-image>=0.21.0 (from albumentations->-r requirements.txt (line 9))\r\n",
      "  Downloading scikit_image-0.22.0-cp310-cp310-macosx_12_0_arm64.whl.metadata (13 kB)\r\n",
      "Collecting PyYAML (from albumentations->-r requirements.txt (line 9))\r\n",
      "  Downloading PyYAML-6.0.1-cp310-cp310-macosx_11_0_arm64.whl.metadata (2.1 kB)\r\n",
      "Requirement already satisfied: scikit-learn>=1.3.2 in /Library/Frameworks/Python.framework/Versions/3.10/lib/python3.10/site-packages (from albumentations->-r requirements.txt (line 9)) (1.3.2)\r\n",
      "Collecting opencv-python-headless>=4.9.0 (from albumentations->-r requirements.txt (line 9))\r\n",
      "  Downloading opencv_python_headless-4.9.0.80-cp37-abi3-macosx_11_0_arm64.whl.metadata (20 kB)\r\n",
      "Requirement already satisfied: six>=1.5 in /Library/Frameworks/Python.framework/Versions/3.10/lib/python3.10/site-packages (from python-dateutil>=2.7->matplotlib->-r requirements.txt (line 4)) (1.16.0)\r\n",
      "Collecting imageio>=2.27 (from scikit-image>=0.21.0->albumentations->-r requirements.txt (line 9))\r\n",
      "  Downloading imageio-2.34.0-py3-none-any.whl.metadata (4.9 kB)\r\n",
      "Collecting tifffile>=2022.8.12 (from scikit-image>=0.21.0->albumentations->-r requirements.txt (line 9))\r\n",
      "  Downloading tifffile-2024.2.12-py3-none-any.whl.metadata (31 kB)\r\n",
      "Collecting lazy_loader>=0.3 (from scikit-image>=0.21.0->albumentations->-r requirements.txt (line 9))\r\n",
      "  Downloading lazy_loader-0.3-py3-none-any.whl.metadata (4.3 kB)\r\n",
      "Requirement already satisfied: joblib>=1.1.1 in /Library/Frameworks/Python.framework/Versions/3.10/lib/python3.10/site-packages (from scikit-learn>=1.3.2->albumentations->-r requirements.txt (line 9)) (1.3.2)\r\n",
      "Requirement already satisfied: threadpoolctl>=2.0.0 in /Library/Frameworks/Python.framework/Versions/3.10/lib/python3.10/site-packages (from scikit-learn>=1.3.2->albumentations->-r requirements.txt (line 9)) (3.2.0)\r\n",
      "Requirement already satisfied: MarkupSafe>=2.0 in /Library/Frameworks/Python.framework/Versions/3.10/lib/python3.10/site-packages (from jinja2->torch->-r requirements.txt (line 2)) (2.1.3)\r\n",
      "Requirement already satisfied: mpmath>=0.19 in /Library/Frameworks/Python.framework/Versions/3.10/lib/python3.10/site-packages (from sympy->torch->-r requirements.txt (line 2)) (1.3.0)\r\n",
      "Downloading torchvision-0.17.1-cp310-cp310-macosx_11_0_arm64.whl (1.6 MB)\r\n",
      "\u001B[2K   \u001B[90m━━━━━━━━━━━━━━━━━━━━━━━━━━━━━━━━━━━━━━━━\u001B[0m \u001B[32m1.6/1.6 MB\u001B[0m \u001B[31m7.5 MB/s\u001B[0m eta \u001B[36m0:00:00\u001B[0ma \u001B[36m0:00:01\u001B[0m\r\n",
      "\u001B[?25hDownloading torch-2.2.1-cp310-none-macosx_11_0_arm64.whl (59.7 MB)\r\n",
      "\u001B[2K   \u001B[90m━━━━━━━━━━━━━━━━━━━━━━━━━━━━━━━━━━━━━━━━\u001B[0m \u001B[32m59.7/59.7 MB\u001B[0m \u001B[31m11.1 MB/s\u001B[0m eta \u001B[36m0:00:00\u001B[0m00:01\u001B[0m00:01\u001B[0m\r\n",
      "\u001B[?25hDownloading opencv_python-4.9.0.80-cp37-abi3-macosx_11_0_arm64.whl (35.4 MB)\r\n",
      "\u001B[2K   \u001B[90m━━━━━━━━━━━━━━━━━━━━━━━━━━━━━━━━━━━━━━━━\u001B[0m \u001B[32m35.4/35.4 MB\u001B[0m \u001B[31m10.1 MB/s\u001B[0m eta \u001B[36m0:00:00\u001B[0m00:01\u001B[0m00:01\u001B[0m\r\n",
      "\u001B[?25hDownloading albumentations-1.4.1-py3-none-any.whl (130 kB)\r\n",
      "\u001B[2K   \u001B[90m━━━━━━━━━━━━━━━━━━━━━━━━━━━━━━━━━━━━━━━━\u001B[0m \u001B[32m130.5/130.5 kB\u001B[0m \u001B[31m7.5 MB/s\u001B[0m eta \u001B[36m0:00:00\u001B[0m\r\n",
      "\u001B[?25hDownloading opencv_python_headless-4.9.0.80-cp37-abi3-macosx_11_0_arm64.whl (35.4 MB)\r\n",
      "\u001B[2K   \u001B[90m━━━━━━━━━━━━━━━━━━━━━━━━━━━━━━━━━━━━━━━━\u001B[0m \u001B[32m35.4/35.4 MB\u001B[0m \u001B[31m11.2 MB/s\u001B[0m eta \u001B[36m0:00:00\u001B[0m00:01\u001B[0m00:01\u001B[0m\r\n",
      "\u001B[?25hDownloading scikit_image-0.22.0-cp310-cp310-macosx_12_0_arm64.whl (13.3 MB)\r\n",
      "\u001B[2K   \u001B[90m━━━━━━━━━━━━━━━━━━━━━━━━━━━━━━━━━━━━━━━━\u001B[0m \u001B[32m13.3/13.3 MB\u001B[0m \u001B[31m11.4 MB/s\u001B[0m eta \u001B[36m0:00:00\u001B[0m00:01\u001B[0m00:01\u001B[0m\r\n",
      "\u001B[?25hDownloading PyYAML-6.0.1-cp310-cp310-macosx_11_0_arm64.whl (169 kB)\r\n",
      "\u001B[2K   \u001B[90m━━━━━━━━━━━━━━━━━━━━━━━━━━━━━━━━━━━━━━━━\u001B[0m \u001B[32m169.3/169.3 kB\u001B[0m \u001B[31m8.3 MB/s\u001B[0m eta \u001B[36m0:00:00\u001B[0m\r\n",
      "\u001B[?25hDownloading imageio-2.34.0-py3-none-any.whl (313 kB)\r\n",
      "\u001B[2K   \u001B[90m━━━━━━━━━━━━━━━━━━━━━━━━━━━━━━━━━━━━━━━━\u001B[0m \u001B[32m313.4/313.4 kB\u001B[0m \u001B[31m9.4 MB/s\u001B[0m eta \u001B[36m0:00:00\u001B[0m\r\n",
      "\u001B[?25hDownloading lazy_loader-0.3-py3-none-any.whl (9.1 kB)\r\n",
      "Downloading tifffile-2024.2.12-py3-none-any.whl (224 kB)\r\n",
      "\u001B[2K   \u001B[90m━━━━━━━━━━━━━━━━━━━━━━━━━━━━━━━━━━━━━━━━\u001B[0m \u001B[32m224.5/224.5 kB\u001B[0m \u001B[31m8.5 MB/s\u001B[0m eta \u001B[36m0:00:00\u001B[0m\r\n",
      "\u001B[?25hInstalling collected packages: tifffile, PyYAML, opencv-python-headless, opencv-python, lazy_loader, imageio, torch, scikit-image, torchvision, albumentations\r\n",
      "  Attempting uninstall: torch\r\n",
      "    Found existing installation: torch 2.1.2\r\n",
      "    Uninstalling torch-2.1.2:\r\n",
      "      Successfully uninstalled torch-2.1.2\r\n",
      "Successfully installed PyYAML-6.0.1 albumentations-1.4.1 imageio-2.34.0 lazy_loader-0.3 opencv-python-4.9.0.80 opencv-python-headless-4.9.0.80 scikit-image-0.22.0 tifffile-2024.2.12 torch-2.2.1 torchvision-0.17.1\r\n"
     ]
    }
   ],
   "source": [
    "!pip install -r requirements.txt"
   ]
  },
  {
   "cell_type": "markdown",
   "metadata": {},
   "source": [
    "## Imports"
   ]
  },
  {
   "cell_type": "code",
   "execution_count": 38,
   "metadata": {
    "ExecuteTime": {
     "end_time": "2024-03-19T08:45:46.769091Z",
     "start_time": "2024-03-19T08:45:46.757256Z"
    }
   },
   "outputs": [],
   "source": [
    "import numpy as np\n",
    "import pandas as pd\n",
    "import matplotlib.pyplot as plt\n",
    "from misc.constants import CONST\n",
    "from misc.setup import Initializer\n",
    "import librosa\n",
    "from scipy.fftpack import dct\n",
    "import librosa.display"
   ]
  },
  {
   "cell_type": "markdown",
   "metadata": {},
   "source": [
    "## Project misc functions"
   ]
  },
  {
   "cell_type": "code",
   "execution_count": 5,
   "metadata": {
    "ExecuteTime": {
     "end_time": "2024-03-18T19:08:45.983090Z",
     "start_time": "2024-03-18T19:08:45.975018Z"
    }
   },
   "outputs": [],
   "source": [
    "def count_paths(paths):\n",
    "    count_woman = sum('woman' in path.lower() for path in paths)\n",
    "    count_man = sum('man' in path.lower() and 'woman' not in path.lower() for path in paths)\n",
    "\n",
    "    return count_woman, count_man"
   ]
  },
  {
   "cell_type": "markdown",
   "metadata": {},
   "source": [
    "## Project Setup"
   ]
  },
  {
   "cell_type": "code",
   "execution_count": 6,
   "metadata": {
    "ExecuteTime": {
     "end_time": "2024-03-18T19:08:49.017906Z",
     "start_time": "2024-03-18T19:08:48.761873Z"
    }
   },
   "outputs": [],
   "source": [
    "initializer = Initializer(CONST.DATA_PATH)\n",
    "initializer.initialize_project()"
   ]
  },
  {
   "cell_type": "markdown",
   "metadata": {},
   "source": [
    "## Simple Data Analys"
   ]
  },
  {
   "cell_type": "markdown",
   "metadata": {},
   "source": [
    "Our dataset contain recordings of digits from `0` to `1`. We implement this dataset by ourselves. In total we have 100 different men women voices with different age starting from `10` ending `60`. However the median and mode is about `20` years old. "
   ]
  },
  {
   "cell_type": "code",
   "execution_count": 7,
   "metadata": {
    "ExecuteTime": {
     "end_time": "2024-03-18T19:08:55.876595Z",
     "start_time": "2024-03-18T19:08:55.862585Z"
    }
   },
   "outputs": [
    {
     "name": "stdout",
     "output_type": "stream",
     "text": [
      "Total amount of recordings:  879\n"
     ]
    }
   ],
   "source": [
    "df = pd.read_csv(CONST.CSV_PATH)\n",
    "\n",
    "print(\"Total amount of recordings: \", len(df))"
   ]
  },
  {
   "cell_type": "code",
   "execution_count": 8,
   "metadata": {
    "ExecuteTime": {
     "end_time": "2024-03-18T19:08:58.154921Z",
     "start_time": "2024-03-18T19:08:58.149019Z"
    }
   },
   "outputs": [
    {
     "data": {
      "text/plain": "                                           file_path  label\n0  /Users/dimaevcenko/Documents/spoken_digit_proj...      0\n1  /Users/dimaevcenko/Documents/spoken_digit_proj...      5\n2  /Users/dimaevcenko/Documents/spoken_digit_proj...      4\n3  /Users/dimaevcenko/Documents/spoken_digit_proj...      6\n4  /Users/dimaevcenko/Documents/spoken_digit_proj...      7",
      "text/html": "<div>\n<style scoped>\n    .dataframe tbody tr th:only-of-type {\n        vertical-align: middle;\n    }\n\n    .dataframe tbody tr th {\n        vertical-align: top;\n    }\n\n    .dataframe thead th {\n        text-align: right;\n    }\n</style>\n<table border=\"1\" class=\"dataframe\">\n  <thead>\n    <tr style=\"text-align: right;\">\n      <th></th>\n      <th>file_path</th>\n      <th>label</th>\n    </tr>\n  </thead>\n  <tbody>\n    <tr>\n      <th>0</th>\n      <td>/Users/dimaevcenko/Documents/spoken_digit_proj...</td>\n      <td>0</td>\n    </tr>\n    <tr>\n      <th>1</th>\n      <td>/Users/dimaevcenko/Documents/spoken_digit_proj...</td>\n      <td>5</td>\n    </tr>\n    <tr>\n      <th>2</th>\n      <td>/Users/dimaevcenko/Documents/spoken_digit_proj...</td>\n      <td>4</td>\n    </tr>\n    <tr>\n      <th>3</th>\n      <td>/Users/dimaevcenko/Documents/spoken_digit_proj...</td>\n      <td>6</td>\n    </tr>\n    <tr>\n      <th>4</th>\n      <td>/Users/dimaevcenko/Documents/spoken_digit_proj...</td>\n      <td>7</td>\n    </tr>\n  </tbody>\n</table>\n</div>"
     },
     "execution_count": 8,
     "metadata": {},
     "output_type": "execute_result"
    }
   ],
   "source": [
    "df.head()"
   ]
  },
  {
   "cell_type": "code",
   "execution_count": 10,
   "metadata": {
    "ExecuteTime": {
     "end_time": "2024-03-18T19:10:54.847576Z",
     "start_time": "2024-03-18T19:10:54.842545Z"
    }
   },
   "outputs": [],
   "source": [
    "count_woman, count_man = count_paths(df['file_path'].tolist())"
   ]
  },
  {
   "cell_type": "code",
   "execution_count": 11,
   "metadata": {
    "ExecuteTime": {
     "end_time": "2024-03-18T19:10:58.243229Z",
     "start_time": "2024-03-18T19:10:58.112650Z"
    }
   },
   "outputs": [
    {
     "data": {
      "text/plain": "<Figure size 700x700 with 1 Axes>",
      "image/png": "[encoded data removed]"
     },
     "metadata": {},
     "output_type": "display_data"
    }
   ],
   "source": [
    "labels = ['Woman', 'Man']\n",
    "sizes = [count_woman, count_man]\n",
    "colors = ['#ff9999','#66b3ff']\n",
    "explode = (0.1, 0)  \n",
    "plt.figure(figsize=(7,7))\n",
    "plt.pie(sizes, explode=explode, labels=labels, colors=colors, autopct='%1.1f%%', startangle=140)\n",
    "plt.axis('equal')\n",
    "plt.title('Count of Paths Containing \"Woman\" vs. \"Man\"')\n",
    "plt.show()"
   ]
  },
  {
   "cell_type": "markdown",
   "metadata": {},
   "source": [
    "## Data Processing"
   ]
  },
  {
   "cell_type": "code",
   "execution_count": 34,
   "metadata": {
    "ExecuteTime": {
     "end_time": "2024-03-19T08:39:53.201032Z",
     "start_time": "2024-03-19T08:39:53.091328Z"
    }
   },
   "outputs": [
    {
     "name": "stderr",
     "output_type": "stream",
     "text": [
      "/var/folders/nw/pb0znbfj0r3288jhzshl4c8h0000gn/T/ipykernel_39471/875552146.py:12: SettingWithCopyWarning: \n",
      "A value is trying to be set on a copy of a slice from a DataFrame.\n",
      "Try using .loc[row_indexer,col_indexer] = value instead\n",
      "\n",
      "See the caveats in the documentation: https://pandas.pydata.org/pandas-docs/stable/user_guide/indexing.html#returning-a-view-versus-a-copy\n",
      "  df_subset['MFCC'] = mfcc_features\n"
     ]
    }
   ],
   "source": [
    "df_subset = df.head(15)\n",
    "\n",
    "mfcc_features = []\n",
    "for file_path in df_subset['file_path']:\n",
    "    audio, sample_rate = librosa.load(file_path, sr=None)\n",
    "    mfccs = librosa.feature.mfcc(y=audio, sr=sample_rate, n_mfcc=13)\n",
    "    mfccs_mean = np.mean(mfccs, axis=1)\n",
    "    mfcc_features.append(mfccs_mean)\n",
    "\n",
    "df_subset['MFCC'] = mfcc_features"
   ]
  },
  {
   "cell_type": "markdown",
   "source": [
    "### Visualize MFCC"
   ],
   "metadata": {
    "collapsed": false
   }
  },
  {
   "cell_type": "code",
   "execution_count": 44,
   "outputs": [
    {
     "data": {
      "text/plain": "<Figure size 1200x400 with 2 Axes>",
      "image/png": "[encoded data removed]"
     },
     "metadata": {},
     "output_type": "display_data"
    }
   ],
   "source": [
    "file_path = df_subset['file_path'].iloc[0]\n",
    "audio, sample_rate = librosa.load(file_path, sr=None)\n",
    "\n",
    "S = librosa.feature.melspectrogram(y=audio, sr=sample_rate, n_mels=128)\n",
    "\n",
    "log_S = librosa.power_to_db(S, ref=np.max)\n",
    "\n",
    "plt.figure(figsize=(12, 4))\n",
    "\n",
    "librosa.display.specshow(log_S, sr=sample_rate, x_axis='time', y_axis='mel')\n",
    "\n",
    "plt.title('Mel Power Spectrogram')\n",
    "\n",
    "plt.colorbar(format='%+02.0f dB')\n",
    "\n",
    "plt.tight_layout()\n",
    "plt.show()"
   ],
   "metadata": {
    "collapsed": false,
    "ExecuteTime": {
     "end_time": "2024-03-19T08:51:18.189618Z",
     "start_time": "2024-03-19T08:51:17.957923Z"
    }
   }
  },
  {
   "cell_type": "code",
   "execution_count": 33,
   "outputs": [
    {
     "name": "stderr",
     "output_type": "stream",
     "text": [
      "/var/folders/nw/pb0znbfj0r3288jhzshl4c8h0000gn/T/ipykernel_39471/413918498.py:9: SettingWithCopyWarning: \n",
      "A value is trying to be set on a copy of a slice from a DataFrame.\n",
      "Try using .loc[row_indexer,col_indexer] = value instead\n",
      "\n",
      "See the caveats in the documentation: https://pandas.pydata.org/pandas-docs/stable/user_guide/indexing.html#returning-a-view-versus-a-copy\n",
      "  df_subset['LFCC'] = lfcc_features\n"
     ]
    }
   ],
   "source": [
    "from lfcc import lfcc\n",
    "\n",
    "lfcc_features = []\n",
    "for file_path in df_subset['file_path']:\n",
    "    audio, sample_rate = librosa.load(file_path, sr=None)\n",
    "    lfccs = lfcc(y=audio, sr=sample_rate)\n",
    "    lfcc_features.append(lfccs)\n",
    "\n",
    "df_subset['LFCC'] = lfcc_features"
   ],
   "metadata": {
    "collapsed": false,
    "ExecuteTime": {
     "end_time": "2024-03-19T08:39:49.237882Z",
     "start_time": "2024-03-19T08:39:49.087169Z"
    }
   }
  },
  {
   "cell_type": "markdown",
   "source": [
    "## CQCC Implementation and saving according to audio file"
   ],
   "metadata": {
    "collapsed": false
   }
  },
  {
   "cell_type": "code",
   "execution_count": 36,
   "outputs": [
    {
     "name": "stderr",
     "output_type": "stream",
     "text": [
      "/Library/Python/3.9/site-packages/librosa/core/spectrum.py:257: UserWarning: n_fft=256 is too large for input signal of length=146\n",
      "  warnings.warn(\n",
      "/Library/Python/3.9/site-packages/librosa/core/spectrum.py:257: UserWarning: n_fft=256 is too large for input signal of length=136\n",
      "  warnings.warn(\n",
      "/Library/Python/3.9/site-packages/librosa/core/spectrum.py:257: UserWarning: n_fft=256 is too large for input signal of length=174\n",
      "  warnings.warn(\n",
      "/Library/Python/3.9/site-packages/librosa/core/spectrum.py:257: UserWarning: n_fft=256 is too large for input signal of length=144\n",
      "  warnings.warn(\n",
      "/Library/Python/3.9/site-packages/librosa/core/spectrum.py:257: UserWarning: n_fft=256 is too large for input signal of length=152\n",
      "  warnings.warn(\n",
      "/Library/Python/3.9/site-packages/librosa/core/spectrum.py:257: UserWarning: n_fft=256 is too large for input signal of length=210\n",
      "  warnings.warn(\n",
      "/Library/Python/3.9/site-packages/librosa/core/spectrum.py:257: UserWarning: n_fft=256 is too large for input signal of length=105\n",
      "  warnings.warn(\n",
      "/Library/Python/3.9/site-packages/librosa/core/spectrum.py:257: UserWarning: n_fft=256 is too large for input signal of length=134\n",
      "  warnings.warn(\n",
      "/Library/Python/3.9/site-packages/librosa/core/spectrum.py:257: UserWarning: n_fft=256 is too large for input signal of length=165\n",
      "  warnings.warn(\n",
      "/Library/Python/3.9/site-packages/librosa/core/spectrum.py:257: UserWarning: n_fft=256 is too large for input signal of length=201\n",
      "  warnings.warn(\n",
      "/Library/Python/3.9/site-packages/librosa/core/spectrum.py:257: UserWarning: n_fft=256 is too large for input signal of length=101\n",
      "  warnings.warn(\n",
      "/Library/Python/3.9/site-packages/librosa/core/spectrum.py:257: UserWarning: n_fft=256 is too large for input signal of length=133\n",
      "  warnings.warn(\n",
      "/Library/Python/3.9/site-packages/librosa/core/spectrum.py:257: UserWarning: n_fft=256 is too large for input signal of length=145\n",
      "  warnings.warn(\n",
      "/Library/Python/3.9/site-packages/librosa/core/spectrum.py:257: UserWarning: n_fft=256 is too large for input signal of length=254\n",
      "  warnings.warn(\n",
      "/Library/Python/3.9/site-packages/librosa/core/spectrum.py:257: UserWarning: n_fft=256 is too large for input signal of length=127\n",
      "  warnings.warn(\n"
     ]
    },
    {
     "name": "stdout",
     "output_type": "stream",
     "text": [
      "0     [[-334.72855, 13.290511, 6.063907, -0.7023545,...\n",
      "1     [[-338.41577, -1.042279e-05, -5.1446073e-06, -...\n",
      "2     [[-383.7826, 3.044363, -7.356224, -5.8978357, ...\n",
      "3     [[-339.51288, 0.0, 0.0, 0.0, 0.0, 0.0, 0.0, 0....\n",
      "4     [[-360.62537, -4.933696e-06, -4.8830852e-06, 4...\n",
      "5     [[-320.67725, -3.2987323, -5.7756805, 3.452076...\n",
      "6     [[-315.8883, 0.0, 0.0, -2.5169638e-06, -4.8803...\n",
      "7     [[-374.52167, 4.933696e-06, 4.8830852e-06, -9....\n",
      "8     [[-373.3238, 0.716537, 3.5926843, -0.5708637, ...\n",
      "9     [[-377.8805, 5.396712, 4.229373, 2.6329632, 1....\n",
      "10    [[-253.85167, -2.0662274, -9.093832, 0.1367141...\n",
      "11    [[-353.39172, 1.042279e-05, 0.0, 0.0, 0.0, 1.1...\n",
      "12    [[-322.20697, 6.3384204, 2.8975015, 0.4247501,...\n",
      "13    [[-293.33942, -16.447021, -3.9799604, 3.837189...\n",
      "14    [[-426.14813, -6.3712645, -2.8871741, -23.2681...\n",
      "Name: CQCC, dtype: object\n"
     ]
    },
    {
     "name": "stderr",
     "output_type": "stream",
     "text": [
      "/var/folders/nw/pb0znbfj0r3288jhzshl4c8h0000gn/T/ipykernel_39471/3559141020.py:19: SettingWithCopyWarning: \n",
      "A value is trying to be set on a copy of a slice from a DataFrame.\n",
      "Try using .loc[row_indexer,col_indexer] = value instead\n",
      "\n",
      "See the caveats in the documentation: https://pandas.pydata.org/pandas-docs/stable/user_guide/indexing.html#returning-a-view-versus-a-copy\n",
      "  df_subset['CQCC'] = cqcc_features\n"
     ]
    }
   ],
   "source": [
    "def extract_CQCC(file_path):\n",
    "    audio_path = file_path\n",
    "    y, sr = librosa.load(audio_path)\n",
    "    # Compute the Constant Q Transform\n",
    "    CQT = librosa.cqt(y, sr=sr)\n",
    "    # Convert to Power Spectrum\n",
    "    power_CQT = np.abs(CQT)**2\n",
    "    # apply log\n",
    "    log_power_CQT = librosa.amplitude_to_db(power_CQT)\n",
    "    cqcc = dct(log_power_CQT, type=2, axis=-1, norm='ortho')\n",
    "    cqcc = cqcc[:13]\n",
    "    return cqcc\n",
    "\n",
    "cqcc_features = []\n",
    "for file_path in df_subset['file_path']:\n",
    "    cqcc = extract_CQCC(file_path)\n",
    "    cqcc_features.append(cqcc)\n",
    "\n",
    "df_subset['CQCC'] = cqcc_features"
   ],
   "metadata": {
    "collapsed": false,
    "ExecuteTime": {
     "end_time": "2024-03-19T08:43:55.839776Z",
     "start_time": "2024-03-19T08:43:55.361055Z"
    }
   }
  },
  {
   "cell_type": "code",
   "execution_count": 37,
   "outputs": [
    {
     "name": "stdout",
     "output_type": "stream",
     "text": [
      "                                           file_path  label  \\\n",
      "0  /Users/dimaevcenko/Documents/spoken_digit_proj...      0   \n",
      "1  /Users/dimaevcenko/Documents/spoken_digit_proj...      5   \n",
      "2  /Users/dimaevcenko/Documents/spoken_digit_proj...      4   \n",
      "3  /Users/dimaevcenko/Documents/spoken_digit_proj...      6   \n",
      "4  /Users/dimaevcenko/Documents/spoken_digit_proj...      7   \n",
      "\n",
      "                                                MFCC  \\\n",
      "0  [-399.16827, 119.56348, 14.460864, 45.340397, ...   \n",
      "1  [-353.32925, 120.74446, 5.925511, 25.075254, 0...   \n",
      "2  [-358.8274, 102.72849, 4.879433, 37.750263, -0...   \n",
      "3  [-340.9078, 46.635857, -3.3306942, 66.18793, 5...   \n",
      "4  [-338.93134, 49.50678, 11.878546, 62.033737, -...   \n",
      "\n",
      "                                                CQCC  \n",
      "0  [[-334.72855, 13.290511, 6.063907, -0.7023545,...  \n",
      "1  [[-338.41577, -1.042279e-05, -5.1446073e-06, -...  \n",
      "2  [[-383.7826, 3.044363, -7.356224, -5.8978357, ...  \n",
      "3  [[-339.51288, 0.0, 0.0, 0.0, 0.0, 0.0, 0.0, 0....  \n",
      "4  [[-360.62537, -4.933696e-06, -4.8830852e-06, 4...  \n"
     ]
    }
   ],
   "source": [
    "print(df_subset.head())"
   ],
   "metadata": {
    "collapsed": false,
    "ExecuteTime": {
     "end_time": "2024-03-19T08:44:16.086348Z",
     "start_time": "2024-03-19T08:44:16.082625Z"
    }
   }
  },
  {
   "cell_type": "code",
   "execution_count": null,
   "outputs": [],
   "source": [],
   "metadata": {
    "collapsed": false
   }
  }
 ],
 "metadata": {
  "kernelspec": {
   "display_name": "Python 3",
   "language": "python",
   "name": "python3"
  },
  "language_info": {
   "codemirror_mode": {
    "name": "ipython",
    "version": 3
   },
   "file_extension": ".py",
   "mimetype": "text/x-python",
   "name": "python",
   "nbconvert_exporter": "python",
   "pygments_lexer": "ipython3",
   "version": "3.11.6"
  }
 },
 "nbformat": 4,
 "nbformat_minor": 2
}
